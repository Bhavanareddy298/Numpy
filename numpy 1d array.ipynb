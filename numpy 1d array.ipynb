{
 "cells": [
  {
   "cell_type": "code",
   "execution_count": 1,
   "id": "3e84616c",
   "metadata": {},
   "outputs": [
    {
     "name": "stdout",
     "output_type": "stream",
     "text": [
      "enter no of rows2\n",
      "enter no of cols2\n",
      "1 2 3 4\n",
      "list in 1d: [1, 2, 3, 4]\n",
      "list in 2d [[1, 2], [3, 4]]\n"
     ]
    }
   ],
   "source": [
    "r=int(input(\"enter no of rows\"))\n",
    "c=int(input(\"enter no of cols\"))\n",
    "# spilliting 1d array into 2d arrays\n",
    "l1=[int(x) for x in input().split()]\n",
    "print(\"list in 1d:\",l1)\n",
    "\n",
    "a=[]\n",
    "\n",
    "for i in range(r):\n",
    "        a.append([])\n",
    "        for j in range(c):\n",
    "            a[i].append(l1[c*i+j])\n",
    "\n",
    "print(\"list in 2d\",a)"
   ]
  },
  {
   "cell_type": "code",
   "execution_count": 4,
   "id": "96ef7149",
   "metadata": {},
   "outputs": [
    {
     "name": "stdout",
     "output_type": "stream",
     "text": [
      "array: [[1, 2, 3], [4, 5, 6], [7, 8, 9], [10, 11, 12]]\n",
      "4 3\n",
      "1\n",
      "4\n",
      "7\n",
      "10\n",
      "11\n",
      "8\n",
      "5\n",
      "2\n",
      "3\n",
      "6\n",
      "9\n",
      "12\n"
     ]
    }
   ],
   "source": [
    "l1=[[1,2,3],[4,5,6],[7,8,9],[10,11,12]]\n",
    "print(\"array:\",l1)\n",
    "r=len(l1)\n",
    "c=len(l1[0])\n",
    "print(r,c)\n",
    "for j in range(c):\n",
    "    if j%2==0:\n",
    "        for i in range(r):\n",
    "            print(l1[i][j])\n",
    "    else:\n",
    "        i=r-1\n",
    "        while(i>=0):\n",
    "            print(l1[i][j])\n",
    "            i=i-1"
   ]
  },
  {
   "cell_type": "code",
   "execution_count": 2,
   "id": "752553f7",
   "metadata": {},
   "outputs": [
    {
     "data": {
      "text/plain": [
       "array([10, 20, 30])"
      ]
     },
     "execution_count": 2,
     "metadata": {},
     "output_type": "execute_result"
    }
   ],
   "source": [
    "import numpy\n",
    "demo=[10,20,30]\n",
    "numpy.array(demo)"
   ]
  },
  {
   "cell_type": "code",
   "execution_count": 5,
   "id": "d4634afc",
   "metadata": {},
   "outputs": [
    {
     "name": "stdout",
     "output_type": "stream",
     "text": [
      "type <class 'numpy.ndarray'>\n",
      "shape (2, 3)\n",
      "dimension 2\n",
      "size 6\n"
     ]
    },
    {
     "data": {
      "text/plain": [
       "dtype('int64')"
      ]
     },
     "execution_count": 5,
     "metadata": {},
     "output_type": "execute_result"
    }
   ],
   "source": [
    "import numpy as np\n",
    "arr=np.array([[1,2,3],[4,5,6]])\n",
    "print('type',type(arr))\n",
    "print('shape',arr.shape)\n",
    "print('dimension',arr.ndim)\n",
    "print('size',arr.size)\n",
    "arr.dtype"
   ]
  },
  {
   "cell_type": "code",
   "execution_count": null,
   "id": "35cefe0f",
   "metadata": {},
   "outputs": [],
   "source": []
  }
 ],
 "metadata": {
  "kernelspec": {
   "display_name": "Python 3",
   "language": "python",
   "name": "python3"
  },
  "language_info": {
   "codemirror_mode": {
    "name": "ipython",
    "version": 3
   },
   "file_extension": ".py",
   "mimetype": "text/x-python",
   "name": "python",
   "nbconvert_exporter": "python",
   "pygments_lexer": "ipython3",
   "version": "3.6.9"
  }
 },
 "nbformat": 4,
 "nbformat_minor": 5
}
