{
 "cells": [
  {
   "cell_type": "code",
   "execution_count": 2,
   "id": "6998663a",
   "metadata": {},
   "outputs": [],
   "source": [
    "import numpy as np"
   ]
  },
  {
   "cell_type": "code",
   "execution_count": 3,
   "id": "b017ee20",
   "metadata": {},
   "outputs": [
    {
     "data": {
      "text/plain": [
       "array([10, 20, 30])"
      ]
     },
     "execution_count": 3,
     "metadata": {},
     "output_type": "execute_result"
    }
   ],
   "source": [
    "demo=[10,20,30]\n",
    "np.array(demo)"
   ]
  },
  {
   "cell_type": "code",
   "execution_count": 4,
   "id": "3a0038d6",
   "metadata": {},
   "outputs": [
    {
     "data": {
      "text/plain": [
       "array(['10', '20', 'xyz'], dtype='<U21')"
      ]
     },
     "execution_count": 4,
     "metadata": {},
     "output_type": "execute_result"
    }
   ],
   "source": [
    "d2=[10,20,'xyz']\n",
    "np.array(d2)"
   ]
  },
  {
   "cell_type": "code",
   "execution_count": 7,
   "id": "72195efb",
   "metadata": {},
   "outputs": [
    {
     "name": "stdout",
     "output_type": "stream",
     "text": [
      "[1. 1. 1. 1. 1.]\n",
      "[0 0 0 0 0]\n"
     ]
    },
    {
     "data": {
      "text/plain": [
       "dtype('float64')"
      ]
     },
     "execution_count": 7,
     "metadata": {},
     "output_type": "execute_result"
    }
   ],
   "source": [
    "g=np.zeros(5,int)\n",
    "k= np.ones(5)\n",
    "print(k)\n",
    "print(g)\n",
    "k.dtype"
   ]
  },
  {
   "cell_type": "code",
   "execution_count": 7,
   "id": "d23e5f0a",
   "metadata": {},
   "outputs": [
    {
     "name": "stdout",
     "output_type": "stream",
     "text": [
      "[[[0. 0. 0. 0. 0.]\n",
      "  [0. 0. 0. 0. 0.]\n",
      "  [0. 0. 0. 0. 0.]\n",
      "  [0. 0. 0. 0. 0.]]\n",
      "\n",
      " [[0. 0. 0. 0. 0.]\n",
      "  [0. 0. 0. 0. 0.]\n",
      "  [0. 0. 0. 0. 0.]\n",
      "  [0. 0. 0. 0. 0.]]\n",
      "\n",
      " [[0. 0. 0. 0. 0.]\n",
      "  [0. 0. 0. 0. 0.]\n",
      "  [0. 0. 0. 0. 0.]\n",
      "  [0. 0. 0. 0. 0.]]]\n"
     ]
    },
    {
     "data": {
      "text/plain": [
       "0.0"
      ]
     },
     "execution_count": 7,
     "metadata": {},
     "output_type": "execute_result"
    }
   ],
   "source": [
    "import numpy as np\n",
    "new_array = np.zeros((3,4,5))\n",
    "print(new_array)\n",
    "\n",
    "new_array[0][1][2]"
   ]
  },
  {
   "cell_type": "code",
   "execution_count": 8,
   "id": "f1602d07",
   "metadata": {},
   "outputs": [
    {
     "name": "stdout",
     "output_type": "stream",
     "text": [
      "[[4 5 6]\n",
      " [7 8 9]]\n",
      "[2 5 8]\n",
      "[4 7]\n",
      "[[4 5]\n",
      " [7 8]]\n"
     ]
    }
   ],
   "source": [
    "twod_array = np.array([[1,2,3],[4,5,6],[7,8,9]])\n",
    "print(twod_array[1:3])\n",
    "\n",
    "print(twod_array[:,1])\n",
    "\n",
    "print(twod_array[1:3,0])\n",
    "\n",
    "print(twod_array[1:3,0:2])"
   ]
  },
  {
   "cell_type": "code",
   "execution_count": 9,
   "id": "6d5cf8f3",
   "metadata": {},
   "outputs": [
    {
     "name": "stdout",
     "output_type": "stream",
     "text": [
      "[11 12 13]\n",
      "[14 17 19]\n",
      "[22 24 26]\n",
      "[33 60 78]\n",
      "12.0\n",
      "36\n"
     ]
    }
   ],
   "source": [
    "x=np.array([1,2,3])\n",
    "y=np.array([3,5,6])\n",
    "x=x+10\n",
    "print(x)\n",
    "print(x+y)\n",
    "print(x*2)\n",
    "print(x*y)\n",
    "print(x.mean())\n",
    "print(x.sum())"
   ]
  },
  {
   "cell_type": "code",
   "execution_count": 10,
   "id": "c911fd93",
   "metadata": {},
   "outputs": [
    {
     "name": "stdout",
     "output_type": "stream",
     "text": [
      "3\n"
     ]
    },
    {
     "data": {
      "text/plain": [
       "1.7320508075688772"
      ]
     },
     "execution_count": 10,
     "metadata": {},
     "output_type": "execute_result"
    }
   ],
   "source": [
    "p1=np.array([2,2,2])\n",
    "p2=np.array([1,1,1])\n",
    "val=((p1-p2)**2).sum()\n",
    "print(val)\n",
    "np.sqrt(val)"
   ]
  },
  {
   "cell_type": "code",
   "execution_count": 11,
   "id": "b490657e",
   "metadata": {},
   "outputs": [
    {
     "name": "stdout",
     "output_type": "stream",
     "text": [
      "5.0\n"
     ]
    },
    {
     "data": {
      "text/plain": [
       "2.23606797749979"
      ]
     },
     "execution_count": 11,
     "metadata": {},
     "output_type": "execute_result"
    }
   ],
   "source": [
    "pts=np.array([4,5,6,7])\n",
    "val1=((pts-pts.mean())**2).sum()\n",
    "print(val1)\n",
    "np.sqrt(val1)"
   ]
  }
 ],
 "metadata": {
  "kernelspec": {
   "display_name": "Python 3",
   "language": "python",
   "name": "python3"
  },
  "language_info": {
   "codemirror_mode": {
    "name": "ipython",
    "version": 3
   },
   "file_extension": ".py",
   "mimetype": "text/x-python",
   "name": "python",
   "nbconvert_exporter": "python",
   "pygments_lexer": "ipython3",
   "version": "3.6.9"
  }
 },
 "nbformat": 4,
 "nbformat_minor": 5
}
